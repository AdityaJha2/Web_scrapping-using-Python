{
 "cells": [
  {
   "cell_type": "code",
   "execution_count": 10,
   "id": "1c9e02a2-841b-498f-8122-bec574b74fd7",
   "metadata": {},
   "outputs": [],
   "source": [
    "import requests\n",
    "from bs4 import BeautifulSoup\n",
    "import pandas as pd\n"
   ]
  },
  {
   "cell_type": "code",
   "execution_count": 11,
   "id": "c6d0fc86-0cd2-43f2-8f89-383282da67ab",
   "metadata": {},
   "outputs": [
    {
     "data": {
      "text/plain": [
       "'https://www.snapdeal.com/search?clickSrc=top_searches&keyword=sunglasses&categoryId=0&vertical=p&noOfResults=20&SRPID=topsearch&sort=rlvncy'"
      ]
     },
     "execution_count": 11,
     "metadata": {},
     "output_type": "execute_result"
    }
   ],
   "source": [
    "url = \"https://www.snapdeal.com/search?clickSrc=top_searches&keyword=sunglasses&categoryId=0&vertical=p&noOfResults=20&SRPID=topsearch&sort=rlvncy\"\n",
    "url"
   ]
  },
  {
   "cell_type": "code",
   "execution_count": 12,
   "id": "32ac5279-5b2c-454c-a27e-8698d0b03a94",
   "metadata": {},
   "outputs": [],
   "source": [
    "# Headers\n",
    "Headers = ({'User-Agent':'Mozilla/5.0 (X11; Linux x86_64)AppleWebKit/537.36 (KHTML, like Gecko)Chrome/44.0.2403.157 Safari/537.36','Accept-Language': 'en-US, en;q=0.5'})"
   ]
  },
  {
   "cell_type": "code",
   "execution_count": 13,
   "id": "84726370-2f5c-4ea9-b4a9-e76849282027",
   "metadata": {},
   "outputs": [],
   "source": [
    "webpage = requests.get(url, headers=Headers)"
   ]
  },
  {
   "cell_type": "code",
   "execution_count": 14,
   "id": "47f27201-09c4-446e-b91f-230c61ce1a09",
   "metadata": {},
   "outputs": [
    {
     "data": {
      "text/plain": [
       "<Response [200]>"
      ]
     },
     "execution_count": 14,
     "metadata": {},
     "output_type": "execute_result"
    }
   ],
   "source": [
    "webpage"
   ]
  },
  {
   "cell_type": "code",
   "execution_count": 15,
   "id": "5027bc16-2cdb-416f-949c-bcfc8864ae78",
   "metadata": {},
   "outputs": [
    {
     "data": {
      "text/plain": [
       "bytes"
      ]
     },
     "execution_count": 15,
     "metadata": {},
     "output_type": "execute_result"
    }
   ],
   "source": [
    "type(webpage.content)"
   ]
  },
  {
   "cell_type": "code",
   "execution_count": 16,
   "id": "6503fae6-5d38-4a8b-8089-6e7f01346f90",
   "metadata": {},
   "outputs": [],
   "source": [
    "content = BeautifulSoup(webpage.content, 'html.parser')"
   ]
  },
  {
   "cell_type": "code",
   "execution_count": 9,
   "id": "87a78ca8-5a98-4265-b700-fd97bd1cfcf2",
   "metadata": {},
   "outputs": [],
   "source": [
    "#content"
   ]
  },
  {
   "cell_type": "code",
   "execution_count": 271,
   "id": "0787ecb1-94ca-49a5-9cd2-ee6fe5d3f492",
   "metadata": {},
   "outputs": [
    {
     "data": {
      "text/plain": [
       "40"
      ]
     },
     "execution_count": 271,
     "metadata": {},
     "output_type": "execute_result"
    }
   ],
   "source": [
    "pp = content.find_all(\"a\", {'class':'dp-widget-link noUdLine'})\n",
    "len(pp)"
   ]
  },
  {
   "cell_type": "code",
   "execution_count": 276,
   "id": "c4184456-6999-4ea6-af0d-a92eb45575f5",
   "metadata": {},
   "outputs": [
    {
     "data": {
      "text/plain": [
       "20"
      ]
     },
     "execution_count": 276,
     "metadata": {},
     "output_type": "execute_result"
    }
   ],
   "source": [
    "ps=pp[0:40:2]\n",
    "len(ps)"
   ]
  },
  {
   "cell_type": "code",
   "execution_count": 275,
   "id": "10d51f6a-36bb-4fa9-b5fe-61735adef925",
   "metadata": {},
   "outputs": [
    {
     "name": "stdout",
     "output_type": "stream",
     "text": [
      "https://www.snapdeal.com/product/resist-eyewear-white-rectangular-sunglasses/675786944992\n",
      "https://www.snapdeal.com/product/fairx-gold-pilot-sunglasses-pack/629262918242\n",
      "https://www.snapdeal.com/product/creature-sunglasses-combo-2-pairs/652918529468\n",
      "https://www.snapdeal.com/product/fairx-gold-pilot-sunglasses-pack/675760768125\n",
      "https://www.snapdeal.com/product/david-martin-black-square-sunglasses/668734130310\n",
      "https://www.snapdeal.com/product/kanny-devis-gold-pilot-sunglasses/651918715835\n",
      "https://www.snapdeal.com/product/peter-jones-brown-oversized-sunglasses/657027337593\n",
      "https://www.snapdeal.com/product/resist-eyewear-black-rectangular-sunglasses/675322456895\n",
      "https://www.snapdeal.com/product/suntap-black-square-sunglasses-pack/675318914499\n",
      "https://www.snapdeal.com/product/kanny-devis-black-rectangular-sunglasses/677477501137\n",
      "https://www.snapdeal.com/product/resist-eyewear-black-rectanglesquarejustin-sunglasses/628473844776\n",
      "https://www.snapdeal.com/product/peter-jones-blue-square-sunglasses/630819582365\n",
      "https://www.snapdeal.com/product/kanny-devis-black-oval-sunglasses/639801389179\n",
      "https://www.snapdeal.com/product/creature-sunglasses-combo-2-pairs/662017848857\n",
      "https://www.snapdeal.com/product/arizona-sunglasses-purple-rectangle-sunglasses/668637584109\n",
      "https://www.snapdeal.com/product/creature-black-round-sunglasses-pack/668116704081\n",
      "https://www.snapdeal.com/product/peter-jones-black-square-sunglasses/682967913352\n",
      "https://www.snapdeal.com/product/creature-black-rectangle-pack-of/671865611867\n",
      "https://www.snapdeal.com/product/style-smith-black-oversized-sunglasses/672986497143\n",
      "https://www.snapdeal.com/product/fairx-copper-pilot-sunglasses-pack/646597161521\n"
     ]
    }
   ],
   "source": [
    "for i in ps:\n",
    "    print(i.get('href'))"
   ]
  },
  {
   "cell_type": "code",
   "execution_count": 242,
   "id": "ee352f7d-08ba-4da9-8ab2-348500b73f52",
   "metadata": {},
   "outputs": [],
   "source": [
    "Product_links = content.find_all(\"div\", {'class':'product-tuple-image'})"
   ]
  },
  {
   "cell_type": "code",
   "execution_count": 263,
   "id": "f173ed36-8f3e-44f5-ac2f-ed5fb2740080",
   "metadata": {},
   "outputs": [
    {
     "data": {
      "text/plain": [
       "[<div class=\"product-tuple-image\">\n",
       " <a class=\"dp-widget-link\" data-position=\"0;1708\" href=\"https://www.snapdeal.com/product/resist-eyewear-white-rectangular-sunglasses/675786944992\" pogid=\"675786944992\" target=\"_blank\">\n",
       " <div class=\"bg-image hidden\"></div>\n",
       " <picture class=\"picture-elem\">\n",
       " <source class=\"product-image\" media=\"(min-width: 1430px)\" srcset=\"https://n1.sdlcdn.com/imgs/k/q/0/large/RESIST-EYEWEAR-White-Rectangular-Sunglasses-SDL778607371-1-1d73e.jpg\" title=\"RESIST EYEWEAR - White Rectangular Sunglasses ( Pack of 1 )\"/>\n",
       " <img class=\"product-image\" src=\"https://n1.sdlcdn.com/imgs/k/q/0/230X258_sharpened/RESIST-EYEWEAR-White-Rectangular-Sunglasses-SDL778607371-1-1d73e.jpg\" title=\"RESIST EYEWEAR - White Rectangular Sunglasses ( Pack of 1 )\"/>\n",
       " </picture>\n",
       " <input class=\"compareImg\" type=\"hidden\" value=\"https://n1.sdlcdn.com/imgs/k/q/0/64x75/RESIST-EYEWEAR-White-Rectangular-Sunglasses-SDL778607371-1-1d73e.jpg\">\n",
       " </input></a>\n",
       " <div class=\"clearfix row-disc\">\n",
       " <div cartid=\"\" class=\"center quick-view-bar btn btn-theme-secondary\" pogid=\"675786944992\" supc=\"SDL778607371\">\n",
       " \t\t\t\t\tQuick View</div>\n",
       " </div>\n",
       " </div>,\n",
       " <div class=\"product-tuple-image\">\n",
       " <a class=\"dp-widget-link\" data-position=\"0;1708\" href=\"https://www.snapdeal.com/product/fairx-gold-pilot-sunglasses-pack/629262918242\" pogid=\"629262918242\" target=\"_blank\">\n",
       " <div class=\"bg-image hidden\"></div>\n",
       " <picture class=\"picture-elem\">\n",
       " <source class=\"product-image\" media=\"(min-width: 1430px)\" srcset=\"https://n2.sdlcdn.com/imgs/k/k/y/large/Fair-X-Gold-Pilot-Sunglasses-SDL595277095-1-e8f56.jpg\" title=\"Fair-X - Gold Pilot Sunglasses ( Pack of 1 )\"/>\n",
       " <img class=\"product-image\" src=\"https://n2.sdlcdn.com/imgs/k/k/y/230X258_sharpened/Fair-X-Gold-Pilot-Sunglasses-SDL595277095-1-e8f56.jpg\" title=\"Fair-X - Gold Pilot Sunglasses ( Pack of 1 )\"/>\n",
       " </picture>\n",
       " <input class=\"compareImg\" type=\"hidden\" value=\"https://n2.sdlcdn.com/imgs/k/k/y/64x75/Fair-X-Gold-Pilot-Sunglasses-SDL595277095-1-e8f56.jpg\">\n",
       " </input></a>\n",
       " <div class=\"clearfix row-disc\">\n",
       " <div cartid=\"\" class=\"center quick-view-bar btn btn-theme-secondary\" pogid=\"629262918242\" supc=\"SDL595277095\">\n",
       " \t\t\t\t\tQuick View</div>\n",
       " </div>\n",
       " </div>,\n",
       " <div class=\"product-tuple-image\">\n",
       " <a class=\"dp-widget-link\" data-position=\"0;1708\" href=\"https://www.snapdeal.com/product/creature-sunglasses-combo-2-pairs/652918529468\" pogid=\"652918529468\" target=\"_blank\">\n",
       " <div class=\"bg-image hidden\"></div>\n",
       " <picture class=\"picture-elem\">\n",
       " <source class=\"product-image\" media=\"(min-width: 1430px)\" srcset=\"https://n1.sdlcdn.com/imgs/j/s/r/large/Creature-Sunglasses-Combo-2-pairs-SDL038067097-1-e310f.jpeg\" title=\"Creature - Black Square Sunglasses ( Pack of 2 )\"/>\n",
       " <img class=\"product-image\" src=\"https://n1.sdlcdn.com/imgs/j/s/r/230X258_sharpened/Creature-Sunglasses-Combo-2-pairs-SDL038067097-1-e310f.jpeg\" title=\"Creature - Black Square Sunglasses ( Pack of 2 )\"/>\n",
       " </picture>\n",
       " <input class=\"compareImg\" type=\"hidden\" value=\"https://n1.sdlcdn.com/imgs/j/s/r/64x75/Creature-Sunglasses-Combo-2-pairs-SDL038067097-1-e310f.jpeg\">\n",
       " </input></a>\n",
       " <div class=\"clearfix row-disc\">\n",
       " <div cartid=\"\" class=\"center quick-view-bar btn btn-theme-secondary\" pogid=\"652918529468\" supc=\"SDL038067097\">\n",
       " \t\t\t\t\tQuick View</div>\n",
       " </div>\n",
       " </div>,\n",
       " <div class=\"product-tuple-image\">\n",
       " <a class=\"dp-widget-link\" data-position=\"0;1708\" href=\"https://www.snapdeal.com/product/fairx-gold-pilot-sunglasses-pack/675760768125\" pogid=\"675760768125\" target=\"_blank\">\n",
       " <div class=\"bg-image hidden\"></div>\n",
       " <picture class=\"picture-elem\">\n",
       " <source class=\"product-image\" media=\"(min-width: 1430px)\" srcset=\"https://n2.sdlcdn.com/imgs/k/k/y/large/Fair-X-Gold-Pilot-Sunglasses-SDL634061704-1-a2b49.jpg\" title=\"Fair-X - Gold Pilot Sunglasses ( Pack of 1 )\"/>\n",
       " <img class=\"product-image\" src=\"https://n2.sdlcdn.com/imgs/k/k/y/230X258_sharpened/Fair-X-Gold-Pilot-Sunglasses-SDL634061704-1-a2b49.jpg\" title=\"Fair-X - Gold Pilot Sunglasses ( Pack of 1 )\"/>\n",
       " </picture>\n",
       " <input class=\"compareImg\" type=\"hidden\" value=\"https://n2.sdlcdn.com/imgs/k/k/y/64x75/Fair-X-Gold-Pilot-Sunglasses-SDL634061704-1-a2b49.jpg\">\n",
       " </input></a>\n",
       " <div class=\"clearfix row-disc\">\n",
       " <div cartid=\"\" class=\"center quick-view-bar btn btn-theme-secondary\" pogid=\"675760768125\" supc=\"SDL634061704\">\n",
       " \t\t\t\t\tQuick View</div>\n",
       " </div>\n",
       " </div>,\n",
       " <div class=\"product-tuple-image\">\n",
       " <a class=\"dp-widget-link\" data-position=\"4;1708\" href=\"https://www.snapdeal.com/product/david-martin-black-square-sunglasses/668734130310\" pogid=\"668734130310\" target=\"_blank\">\n",
       " <div class=\"bg-image hidden\"></div>\n",
       " <picture class=\"picture-elem\">\n",
       " <source class=\"product-image\" media=\"(min-width: 1430px)\" srcset=\"https://n3.sdlcdn.com/imgs/k/u/r/large/David-Martin-Black-Square-Sunglasses-SDL360027168-1-b3dbf.png\" title=\"David Martin Black Square Sunglasses ( Pack of 1 )\"/>\n",
       " <img class=\"product-image lazy-load\" data-src=\"https://n3.sdlcdn.com/imgs/k/u/r/230X258_sharpened/David-Martin-Black-Square-Sunglasses-SDL360027168-1-b3dbf.png\" title=\"David Martin Black Square Sunglasses ( Pack of 1 )\"/>\n",
       " </picture>\n",
       " <input class=\"compareImg\" type=\"hidden\" value=\"https://n3.sdlcdn.com/imgs/k/u/r/64x75/David-Martin-Black-Square-Sunglasses-SDL360027168-1-b3dbf.png\">\n",
       " </input></a>\n",
       " <div class=\"clearfix row-disc\">\n",
       " <div cartid=\"\" class=\"center quick-view-bar btn btn-theme-secondary\" pogid=\"668734130310\" supc=\"SDL360027168\">\n",
       " \t\t\t\t\tQuick View</div>\n",
       " </div>\n",
       " </div>,\n",
       " <div class=\"product-tuple-image\">\n",
       " <a class=\"dp-widget-link\" data-position=\"4;1708\" href=\"https://www.snapdeal.com/product/kanny-devis-gold-pilot-sunglasses/651918715835\" pogid=\"651918715835\" target=\"_blank\">\n",
       " <div class=\"bg-image hidden\"></div>\n",
       " <picture class=\"picture-elem\">\n",
       " <source class=\"product-image\" media=\"(min-width: 1430px)\" srcset=\"https://n4.sdlcdn.com/imgs/k/m/p/large/Kanny-Devis-Gold-Pilot-Sunglasses-SDL434300942-1-5d86b.jpg\" title=\"Kanny Devis - Gold Pilot Sunglasses ( Pack of 1 )\"/>\n",
       " <img class=\"product-image lazy-load\" data-src=\"https://n4.sdlcdn.com/imgs/k/m/p/230X258_sharpened/Kanny-Devis-Gold-Pilot-Sunglasses-SDL434300942-1-5d86b.jpg\" title=\"Kanny Devis - Gold Pilot Sunglasses ( Pack of 1 )\"/>\n",
       " </picture>\n",
       " <input class=\"compareImg\" type=\"hidden\" value=\"https://n4.sdlcdn.com/imgs/k/m/p/64x75/Kanny-Devis-Gold-Pilot-Sunglasses-SDL434300942-1-5d86b.jpg\">\n",
       " </input></a>\n",
       " <div class=\"clearfix row-disc\">\n",
       " <div cartid=\"\" class=\"center quick-view-bar btn btn-theme-secondary\" pogid=\"651918715835\" supc=\"SDL434300942\">\n",
       " \t\t\t\t\tQuick View</div>\n",
       " </div>\n",
       " </div>,\n",
       " <div class=\"product-tuple-image\">\n",
       " <a class=\"dp-widget-link\" data-position=\"4;1708\" href=\"https://www.snapdeal.com/product/peter-jones-brown-oversized-sunglasses/657027337593\" pogid=\"657027337593\" target=\"_blank\">\n",
       " <div class=\"bg-image hidden\"></div>\n",
       " <picture class=\"picture-elem\">\n",
       " <source class=\"product-image\" media=\"(min-width: 1430px)\" srcset=\"https://n2.sdlcdn.com/imgs/i/a/5/large/Peter-Jones-Brown-Oversized-Sunglasses-SDL058483784-1-78962.jpg\" title=\"Peter Jones - Brown Oversized Sunglasses ( Pack of 1 )\"/>\n",
       " <img class=\"product-image lazy-load\" data-src=\"https://n2.sdlcdn.com/imgs/i/a/5/230X258_sharpened/Peter-Jones-Brown-Oversized-Sunglasses-SDL058483784-1-78962.jpg\" title=\"Peter Jones - Brown Oversized Sunglasses ( Pack of 1 )\"/>\n",
       " </picture>\n",
       " <input class=\"compareImg\" type=\"hidden\" value=\"https://n2.sdlcdn.com/imgs/i/a/5/64x75/Peter-Jones-Brown-Oversized-Sunglasses-SDL058483784-1-78962.jpg\">\n",
       " </input></a>\n",
       " <div class=\"clearfix row-disc\">\n",
       " <div cartid=\"\" class=\"center quick-view-bar btn btn-theme-secondary\" pogid=\"657027337593\" supc=\"SDL058483784\">\n",
       " \t\t\t\t\tQuick View</div>\n",
       " </div>\n",
       " </div>,\n",
       " <div class=\"product-tuple-image\">\n",
       " <a class=\"dp-widget-link\" data-position=\"4;1708\" href=\"https://www.snapdeal.com/product/resist-eyewear-black-rectangular-sunglasses/675322456895\" pogid=\"675322456895\" target=\"_blank\">\n",
       " <div class=\"bg-image hidden\"></div>\n",
       " <picture class=\"picture-elem\">\n",
       " <source class=\"product-image\" media=\"(min-width: 1430px)\" srcset=\"https://n1.sdlcdn.com/imgs/k/u/s/large/RESIST-EYEWEAR-Black-Rectangular-Sunglasses-SDL211767410-2-353ff.jpg\" title=\"RESIST EYEWEAR Black Rectangular Sunglasses ( Pack of 1 )\"/>\n",
       " <img class=\"product-image lazy-load\" data-src=\"https://n1.sdlcdn.com/imgs/k/u/s/230X258_sharpened/RESIST-EYEWEAR-Black-Rectangular-Sunglasses-SDL211767410-2-353ff.jpg\" title=\"RESIST EYEWEAR Black Rectangular Sunglasses ( Pack of 1 )\"/>\n",
       " </picture>\n",
       " <input class=\"compareImg\" type=\"hidden\" value=\"https://n1.sdlcdn.com/imgs/k/u/s/64x75/RESIST-EYEWEAR-Black-Rectangular-Sunglasses-SDL211767410-2-353ff.jpg\">\n",
       " </input></a>\n",
       " <div class=\"clearfix row-disc\">\n",
       " <div cartid=\"\" class=\"center quick-view-bar btn btn-theme-secondary\" pogid=\"675322456895\" supc=\"SDL211767410\">\n",
       " \t\t\t\t\tQuick View</div>\n",
       " </div>\n",
       " </div>,\n",
       " <div class=\"product-tuple-image\">\n",
       " <a class=\"dp-widget-link\" data-position=\"8;1708\" href=\"https://www.snapdeal.com/product/suntap-black-square-sunglasses-pack/675318914499\" pogid=\"675318914499\" target=\"_blank\">\n",
       " <div class=\"bg-image hidden\"></div>\n",
       " <picture class=\"picture-elem\">\n",
       " <source class=\"product-image\" media=\"(min-width: 1430px)\" srcset=\"https://n2.sdlcdn.com/imgs/k/s/k/large/SUNTAP-Black-Square-Sunglasses-Pack-SDL762740748-1-9a41e.jpg\" title=\"SUNTAP Black Square Sunglasses ( Pack of 1 )\"/>\n",
       " <img class=\"product-image lazy-load\" data-src=\"https://n2.sdlcdn.com/imgs/k/s/k/230X258_sharpened/SUNTAP-Black-Square-Sunglasses-Pack-SDL762740748-1-9a41e.jpg\" title=\"SUNTAP Black Square Sunglasses ( Pack of 1 )\"/>\n",
       " </picture>\n",
       " <input class=\"compareImg\" type=\"hidden\" value=\"https://n2.sdlcdn.com/imgs/k/s/k/64x75/SUNTAP-Black-Square-Sunglasses-Pack-SDL762740748-1-9a41e.jpg\">\n",
       " </input></a>\n",
       " <div class=\"clearfix row-disc\">\n",
       " <div cartid=\"\" class=\"center quick-view-bar btn btn-theme-secondary\" pogid=\"675318914499\" supc=\"SDL762740748\">\n",
       " \t\t\t\t\tQuick View</div>\n",
       " </div>\n",
       " </div>,\n",
       " <div class=\"product-tuple-image\">\n",
       " <a class=\"dp-widget-link\" data-position=\"8;1708\" href=\"https://www.snapdeal.com/product/kanny-devis-black-rectangular-sunglasses/677477501137\" pogid=\"677477501137\" target=\"_blank\">\n",
       " <div class=\"bg-image hidden\"></div>\n",
       " <picture class=\"picture-elem\">\n",
       " <source class=\"product-image\" media=\"(min-width: 1430px)\" srcset=\"https://n2.sdlcdn.com/imgs/k/m/p/large/Kanny-Devis-Black-Rectangular-Sunglasses-SDL392387977-1-4e42a.jpg\" title=\"Kanny Devis - Black Rectangular Sunglasses ( Pack of 1 )\"/>\n",
       " <img class=\"product-image lazy-load\" data-src=\"https://n2.sdlcdn.com/imgs/k/m/p/230X258_sharpened/Kanny-Devis-Black-Rectangular-Sunglasses-SDL392387977-1-4e42a.jpg\" title=\"Kanny Devis - Black Rectangular Sunglasses ( Pack of 1 )\"/>\n",
       " </picture>\n",
       " <input class=\"compareImg\" type=\"hidden\" value=\"https://n2.sdlcdn.com/imgs/k/m/p/64x75/Kanny-Devis-Black-Rectangular-Sunglasses-SDL392387977-1-4e42a.jpg\">\n",
       " </input></a>\n",
       " <div class=\"clearfix row-disc\">\n",
       " <div cartid=\"\" class=\"center quick-view-bar btn btn-theme-secondary\" pogid=\"677477501137\" supc=\"SDL392387977\">\n",
       " \t\t\t\t\tQuick View</div>\n",
       " </div>\n",
       " </div>,\n",
       " <div class=\"product-tuple-image\">\n",
       " <a class=\"dp-widget-link\" data-position=\"8;1708\" href=\"https://www.snapdeal.com/product/resist-eyewear-black-rectanglesquarejustin-sunglasses/628473844776\" pogid=\"628473844776\" target=\"_blank\">\n",
       " <div class=\"bg-image hidden\"></div>\n",
       " <picture class=\"picture-elem\">\n",
       " <source class=\"product-image\" media=\"(min-width: 1430px)\" srcset=\"https://n3.sdlcdn.com/imgs/k/f/l/large/RESIST-EYEWEAR-Black-Square-Sunglasses-SDL226741620-1-d4f95.jpg\" title=\"RESIST EYEWEAR - Black Square Sunglasses ( Pack of 1 )\"/>\n",
       " <img class=\"product-image lazy-load\" data-src=\"https://n3.sdlcdn.com/imgs/k/f/l/230X258_sharpened/RESIST-EYEWEAR-Black-Square-Sunglasses-SDL226741620-1-d4f95.jpg\" title=\"RESIST EYEWEAR - Black Square Sunglasses ( Pack of 1 )\"/>\n",
       " </picture>\n",
       " <input class=\"compareImg\" type=\"hidden\" value=\"https://n3.sdlcdn.com/imgs/k/f/l/64x75/RESIST-EYEWEAR-Black-Square-Sunglasses-SDL226741620-1-d4f95.jpg\">\n",
       " </input></a>\n",
       " <div class=\"clearfix row-disc\">\n",
       " <div cartid=\"\" class=\"center quick-view-bar btn btn-theme-secondary\" pogid=\"628473844776\" supc=\"SDL226741620\">\n",
       " \t\t\t\t\tQuick View</div>\n",
       " </div>\n",
       " </div>,\n",
       " <div class=\"product-tuple-image\">\n",
       " <a class=\"dp-widget-link\" data-position=\"8;1708\" href=\"https://www.snapdeal.com/product/peter-jones-blue-square-sunglasses/630819582365\" pogid=\"630819582365\" target=\"_blank\">\n",
       " <div class=\"bg-image hidden\"></div>\n",
       " <picture class=\"picture-elem\">\n",
       " <source class=\"product-image\" media=\"(min-width: 1430px)\" srcset=\"https://n2.sdlcdn.com/imgs/i/f/q/large/Peter-Jones-Blue-Square-Sunglasses-SDL679631747-1-829e8.jpg\" title=\"Peter Jones - Black Square Sunglasses ( Pack of 1 )\"/>\n",
       " <img class=\"product-image lazy-load\" data-src=\"https://n2.sdlcdn.com/imgs/i/f/q/230X258_sharpened/Peter-Jones-Blue-Square-Sunglasses-SDL679631747-1-829e8.jpg\" title=\"Peter Jones - Black Square Sunglasses ( Pack of 1 )\"/>\n",
       " </picture>\n",
       " <input class=\"compareImg\" type=\"hidden\" value=\"https://n2.sdlcdn.com/imgs/i/f/q/64x75/Peter-Jones-Blue-Square-Sunglasses-SDL679631747-1-829e8.jpg\">\n",
       " </input></a>\n",
       " <div class=\"clearfix row-disc\">\n",
       " <div cartid=\"\" class=\"center quick-view-bar btn btn-theme-secondary\" pogid=\"630819582365\" supc=\"SDL679631747\">\n",
       " \t\t\t\t\tQuick View</div>\n",
       " </div>\n",
       " </div>,\n",
       " <div class=\"product-tuple-image\">\n",
       " <a class=\"dp-widget-link\" data-position=\"12;1708\" href=\"https://www.snapdeal.com/product/kanny-devis-black-oval-sunglasses/639801389179\" pogid=\"639801389179\" target=\"_blank\">\n",
       " <div class=\"bg-image hidden\"></div>\n",
       " <picture class=\"picture-elem\">\n",
       " <source class=\"product-image\" media=\"(min-width: 1430px)\" srcset=\"https://n3.sdlcdn.com/imgs/k/s/k/large/Kanny-Devis-Black-Oval-Sunglasses-SDL080531475-1-ab1bf.jpg\" title=\"Kanny Devis Black Oval Sunglasses ( Pack of 1 )\"/>\n",
       " <img class=\"product-image lazy-load\" data-src=\"https://n3.sdlcdn.com/imgs/k/s/k/230X258_sharpened/Kanny-Devis-Black-Oval-Sunglasses-SDL080531475-1-ab1bf.jpg\" title=\"Kanny Devis Black Oval Sunglasses ( Pack of 1 )\"/>\n",
       " </picture>\n",
       " <input class=\"compareImg\" type=\"hidden\" value=\"https://n3.sdlcdn.com/imgs/k/s/k/64x75/Kanny-Devis-Black-Oval-Sunglasses-SDL080531475-1-ab1bf.jpg\">\n",
       " </input></a>\n",
       " <div class=\"clearfix row-disc\">\n",
       " <div cartid=\"\" class=\"center quick-view-bar btn btn-theme-secondary\" pogid=\"639801389179\" supc=\"SDL080531475\">\n",
       " \t\t\t\t\tQuick View</div>\n",
       " </div>\n",
       " </div>,\n",
       " <div class=\"product-tuple-image\">\n",
       " <a class=\"dp-widget-link\" data-position=\"12;1708\" href=\"https://www.snapdeal.com/product/creature-sunglasses-combo-2-pairs/662017848857\" pogid=\"662017848857\" target=\"_blank\">\n",
       " <div class=\"bg-image hidden\"></div>\n",
       " <picture class=\"picture-elem\">\n",
       " <source class=\"product-image\" media=\"(min-width: 1430px)\" srcset=\"https://n2.sdlcdn.com/imgs/j/p/5/large/Creature-Sunglasses-Combo-2-pairs-SDL301321781-1-f58ea.jpg\" title=\"Creature Sunglasses Combo ( 2 pairs of sunglasses )\"/>\n",
       " <img class=\"product-image lazy-load\" data-src=\"https://n2.sdlcdn.com/imgs/j/p/5/230X258_sharpened/Creature-Sunglasses-Combo-2-pairs-SDL301321781-1-f58ea.jpg\" title=\"Creature Sunglasses Combo ( 2 pairs of sunglasses )\"/>\n",
       " </picture>\n",
       " <input class=\"compareImg\" type=\"hidden\" value=\"https://n2.sdlcdn.com/imgs/j/p/5/64x75/Creature-Sunglasses-Combo-2-pairs-SDL301321781-1-f58ea.jpg\"/>\n",
       " </a>\n",
       " <div class=\"clearfix row-disc\">\n",
       " <div cartid=\"\" class=\"center quick-view-bar btn btn-theme-secondary\" pogid=\"662017848857\" supc=\"SDL301321781\">\n",
       " \t\t\t\t\tQuick View</div>\n",
       " </div>\n",
       " </div>,\n",
       " <div class=\"product-tuple-image\">\n",
       " <a class=\"dp-widget-link\" data-position=\"12;1708\" href=\"https://www.snapdeal.com/product/arizona-sunglasses-purple-rectangle-sunglasses/668637584109\" pogid=\"668637584109\" target=\"_blank\">\n",
       " <div class=\"bg-image hidden\"></div>\n",
       " <picture class=\"picture-elem\">\n",
       " <source class=\"product-image\" media=\"(min-width: 1430px)\" srcset=\"https://n2.sdlcdn.com/imgs/j/m/6/large/Arizona-Sunglasses-Purple-Rectangle-Sunglasses-SDL338734328-1-04d56.jpg\" title=\"Arizona Sunglasses - Black Rectangular Sunglasses ( Pack of 1 )\"/>\n",
       " <img class=\"product-image lazy-load\" data-src=\"https://n2.sdlcdn.com/imgs/j/m/6/230X258_sharpened/Arizona-Sunglasses-Purple-Rectangle-Sunglasses-SDL338734328-1-04d56.jpg\" title=\"Arizona Sunglasses - Black Rectangular Sunglasses ( Pack of 1 )\"/>\n",
       " </picture>\n",
       " <input class=\"compareImg\" type=\"hidden\" value=\"https://n2.sdlcdn.com/imgs/j/m/6/64x75/Arizona-Sunglasses-Purple-Rectangle-Sunglasses-SDL338734328-1-04d56.jpg\"/>\n",
       " </a>\n",
       " <div class=\"clearfix row-disc\">\n",
       " <div cartid=\"\" class=\"center quick-view-bar btn btn-theme-secondary\" pogid=\"668637584109\" supc=\"SDL338734328\">\n",
       " \t\t\t\t\tQuick View</div>\n",
       " </div>\n",
       " </div>,\n",
       " <div class=\"product-tuple-image\">\n",
       " <a class=\"dp-widget-link\" data-position=\"12;1708\" href=\"https://www.snapdeal.com/product/creature-black-round-sunglasses-pack/668116704081\" pogid=\"668116704081\" target=\"_blank\">\n",
       " <div class=\"bg-image hidden\"></div>\n",
       " <picture class=\"picture-elem\">\n",
       " <source class=\"product-image\" media=\"(min-width: 1430px)\" srcset=\"https://n1.sdlcdn.com/imgs/k/f/2/large/Creature-Black-Round-Sunglasses-Pack-SDL971336455-1-0bff3.jpeg\" title=\"Creature - Black Round Sunglasses ( Pack of 1 )\"/>\n",
       " <img class=\"product-image lazy-load\" data-src=\"https://n1.sdlcdn.com/imgs/k/f/2/230X258_sharpened/Creature-Black-Round-Sunglasses-Pack-SDL971336455-1-0bff3.jpeg\" title=\"Creature - Black Round Sunglasses ( Pack of 1 )\"/>\n",
       " </picture>\n",
       " <input class=\"compareImg\" type=\"hidden\" value=\"https://n1.sdlcdn.com/imgs/k/f/2/64x75/Creature-Black-Round-Sunglasses-Pack-SDL971336455-1-0bff3.jpeg\"/>\n",
       " </a>\n",
       " <div class=\"clearfix row-disc\">\n",
       " <div cartid=\"\" class=\"center quick-view-bar btn btn-theme-secondary\" pogid=\"668116704081\" supc=\"SDL971336455\">\n",
       " \t\t\t\t\tQuick View</div>\n",
       " </div>\n",
       " </div>,\n",
       " <div class=\"product-tuple-image\">\n",
       " <a class=\"dp-widget-link\" data-position=\"16;1708\" href=\"https://www.snapdeal.com/product/peter-jones-black-square-sunglasses/682967913352\" pogid=\"682967913352\" target=\"_blank\">\n",
       " <div class=\"bg-image hidden\"></div>\n",
       " <picture class=\"picture-elem\">\n",
       " <source class=\"product-image\" media=\"(min-width: 1430px)\" srcset=\"https://n4.sdlcdn.com/imgs/g/p/k/large/Peter-Jones-Black-Wayfarer-Sunglasses-SDL085903584-1-58da6.jpeg\" title=\"Peter Jones - Black Square Sunglasses ( Pack of 1 )\"/>\n",
       " <img class=\"product-image lazy-load\" data-src=\"https://n4.sdlcdn.com/imgs/g/p/k/230X258_sharpened/Peter-Jones-Black-Wayfarer-Sunglasses-SDL085903584-1-58da6.jpeg\" title=\"Peter Jones - Black Square Sunglasses ( Pack of 1 )\"/>\n",
       " </picture>\n",
       " <input class=\"compareImg\" type=\"hidden\" value=\"https://n4.sdlcdn.com/imgs/g/p/k/64x75/Peter-Jones-Black-Wayfarer-Sunglasses-SDL085903584-1-58da6.jpeg\">\n",
       " </input></a>\n",
       " <div class=\"clearfix row-disc\">\n",
       " <div cartid=\"\" class=\"center quick-view-bar btn btn-theme-secondary\" pogid=\"682967913352\" supc=\"SDL085903584\">\n",
       " \t\t\t\t\tQuick View</div>\n",
       " </div>\n",
       " </div>,\n",
       " <div class=\"product-tuple-image\">\n",
       " <a class=\"dp-widget-link\" data-position=\"16;1708\" href=\"https://www.snapdeal.com/product/creature-black-rectangle-pack-of/671865611867\" pogid=\"671865611867\" target=\"_blank\">\n",
       " <div class=\"bg-image hidden\"></div>\n",
       " <picture class=\"picture-elem\">\n",
       " <source class=\"product-image\" media=\"(min-width: 1430px)\" srcset=\"https://n1.sdlcdn.com/imgs/j/y/y/large/Creature-Black-Rectangle-Sunglasses-Pack-SDL907566775-1-2a50d.jpeg\" title=\"Creature - Black Rectangular Sunglasses ( Pack of 1 )\"/>\n",
       " <img class=\"product-image lazy-load\" data-src=\"https://n1.sdlcdn.com/imgs/j/y/y/230X258_sharpened/Creature-Black-Rectangle-Sunglasses-Pack-SDL907566775-1-2a50d.jpeg\" title=\"Creature - Black Rectangular Sunglasses ( Pack of 1 )\"/>\n",
       " </picture>\n",
       " <input class=\"compareImg\" type=\"hidden\" value=\"https://n1.sdlcdn.com/imgs/j/y/y/64x75/Creature-Black-Rectangle-Sunglasses-Pack-SDL907566775-1-2a50d.jpeg\"/>\n",
       " </a>\n",
       " <div class=\"clearfix row-disc\">\n",
       " <div cartid=\"\" class=\"center quick-view-bar btn btn-theme-secondary\" pogid=\"671865611867\" supc=\"SDL907566775\">\n",
       " \t\t\t\t\tQuick View</div>\n",
       " </div>\n",
       " </div>,\n",
       " <div class=\"product-tuple-image\">\n",
       " <a class=\"dp-widget-link\" data-position=\"16;1708\" href=\"https://www.snapdeal.com/product/style-smith-black-oversized-sunglasses/672986497143\" pogid=\"672986497143\" target=\"_blank\">\n",
       " <div class=\"bg-image hidden\"></div>\n",
       " <picture class=\"picture-elem\">\n",
       " <source class=\"product-image\" media=\"(min-width: 1430px)\" srcset=\"https://n1.sdlcdn.com/imgs/k/n/j/large/Style-Smith-Black-Oversized-Sunglasses-SDL730819004-2-ef2c5.jpg\" title=\"Style Smith - Black Oversized Sunglasses ( Pack of 1 )\"/>\n",
       " <img class=\"product-image lazy-load\" data-src=\"https://n1.sdlcdn.com/imgs/k/n/j/230X258_sharpened/Style-Smith-Black-Oversized-Sunglasses-SDL730819004-2-ef2c5.jpg\" title=\"Style Smith - Black Oversized Sunglasses ( Pack of 1 )\"/>\n",
       " </picture>\n",
       " <input class=\"compareImg\" type=\"hidden\" value=\"https://n1.sdlcdn.com/imgs/k/n/j/64x75/Style-Smith-Black-Oversized-Sunglasses-SDL730819004-2-ef2c5.jpg\"/>\n",
       " </a>\n",
       " <div class=\"clearfix row-disc\">\n",
       " <div cartid=\"\" class=\"center quick-view-bar btn btn-theme-secondary\" pogid=\"672986497143\" supc=\"SDL730819004\">\n",
       " \t\t\t\t\tQuick View</div>\n",
       " </div>\n",
       " </div>,\n",
       " <div class=\"product-tuple-image\">\n",
       " <a class=\"dp-widget-link\" data-position=\"16;1708\" href=\"https://www.snapdeal.com/product/fairx-copper-pilot-sunglasses-pack/646597161521\" pogid=\"646597161521\" target=\"_blank\">\n",
       " <div class=\"bg-image hidden\"></div>\n",
       " <picture class=\"picture-elem\">\n",
       " <source class=\"product-image\" media=\"(min-width: 1430px)\" srcset=\"https://n4.sdlcdn.com/imgs/k/k/y/large/Fair-X-Copper-Pilot-Sunglasses-SDL967958803-1-7fde3.jpg\" title=\"Fair-X - Copper Pilot Sunglasses ( Pack of 1 )\"/>\n",
       " <img class=\"product-image lazy-load\" data-src=\"https://n4.sdlcdn.com/imgs/k/k/y/230X258_sharpened/Fair-X-Copper-Pilot-Sunglasses-SDL967958803-1-7fde3.jpg\" title=\"Fair-X - Copper Pilot Sunglasses ( Pack of 1 )\"/>\n",
       " </picture>\n",
       " <input class=\"compareImg\" type=\"hidden\" value=\"https://n4.sdlcdn.com/imgs/k/k/y/64x75/Fair-X-Copper-Pilot-Sunglasses-SDL967958803-1-7fde3.jpg\"/>\n",
       " </a>\n",
       " <div class=\"clearfix row-disc\">\n",
       " <div cartid=\"\" class=\"center quick-view-bar btn btn-theme-secondary\" pogid=\"646597161521\" supc=\"SDL967958803\">\n",
       " \t\t\t\t\tQuick View</div>\n",
       " </div>\n",
       " </div>]"
      ]
     },
     "execution_count": 263,
     "metadata": {},
     "output_type": "execute_result"
    }
   ],
   "source": [
    "Product_links"
   ]
  },
  {
   "cell_type": "code",
   "execution_count": 258,
   "id": "6357b308-0f9e-4d4a-959b-58a8846612dd",
   "metadata": {},
   "outputs": [
    {
     "ename": "AttributeError",
     "evalue": "ResultSet object has no attribute 'find_all'. You're probably treating a list of elements like a single element. Did you call find_all() when you meant to call find()?",
     "output_type": "error",
     "traceback": [
      "\u001b[0;31m---------------------------------------------------------------------------\u001b[0m",
      "\u001b[0;31mAttributeError\u001b[0m                            Traceback (most recent call last)",
      "Cell \u001b[0;32mIn[259], line 1\u001b[0m\n\u001b[0;32m----> 1\u001b[0m \u001b[43mProduct_links\u001b[49m\u001b[38;5;241;43m.\u001b[39;49m\u001b[43mfind_all\u001b[49m(\u001b[38;5;124m\"\u001b[39m\u001b[38;5;124mdiv\u001b[39m\u001b[38;5;124m\"\u001b[39m, {\u001b[38;5;124m'\u001b[39m\u001b[38;5;124mclass\u001b[39m\u001b[38;5;124m'\u001b[39m:\u001b[38;5;124m'\u001b[39m\u001b[38;5;124mproduct-tuple-image\u001b[39m\u001b[38;5;124m'\u001b[39m})\n",
      "File \u001b[0;32m/opt/conda/lib/python3.10/site-packages/bs4/element.py:2289\u001b[0m, in \u001b[0;36mResultSet.__getattr__\u001b[0;34m(self, key)\u001b[0m\n\u001b[1;32m   2287\u001b[0m \u001b[38;5;28;01mdef\u001b[39;00m \u001b[38;5;21m__getattr__\u001b[39m(\u001b[38;5;28mself\u001b[39m, key):\n\u001b[1;32m   2288\u001b[0m     \u001b[38;5;124;03m\"\"\"Raise a helpful exception to explain a common code fix.\"\"\"\u001b[39;00m\n\u001b[0;32m-> 2289\u001b[0m     \u001b[38;5;28;01mraise\u001b[39;00m \u001b[38;5;167;01mAttributeError\u001b[39;00m(\n\u001b[1;32m   2290\u001b[0m         \u001b[38;5;124m\"\u001b[39m\u001b[38;5;124mResultSet object has no attribute \u001b[39m\u001b[38;5;124m'\u001b[39m\u001b[38;5;132;01m%s\u001b[39;00m\u001b[38;5;124m'\u001b[39m\u001b[38;5;124m. You\u001b[39m\u001b[38;5;124m'\u001b[39m\u001b[38;5;124mre probably treating a list of elements like a single element. Did you call find_all() when you meant to call find()?\u001b[39m\u001b[38;5;124m\"\u001b[39m \u001b[38;5;241m%\u001b[39m key\n\u001b[1;32m   2291\u001b[0m     )\n",
      "\u001b[0;31mAttributeError\u001b[0m: ResultSet object has no attribute 'find_all'. You're probably treating a list of elements like a single element. Did you call find_all() when you meant to call find()?"
     ]
    }
   ],
   "source": [
    "Product_links.find_all(\"div\", {'class':'product-tuple-image'})"
   ]
  },
  {
   "cell_type": "code",
   "execution_count": 250,
   "id": "9dabb36d-bd15-43ec-a457-0b0f94daa6ed",
   "metadata": {},
   "outputs": [
    {
     "ename": "AttributeError",
     "evalue": "ResultSet object has no attribute 'find'. You're probably treating a list of elements like a single element. Did you call find_all() when you meant to call find()?",
     "output_type": "error",
     "traceback": [
      "\u001b[0;31m---------------------------------------------------------------------------\u001b[0m",
      "\u001b[0;31mAttributeError\u001b[0m                            Traceback (most recent call last)",
      "Cell \u001b[0;32mIn[250], line 1\u001b[0m\n\u001b[0;32m----> 1\u001b[0m \u001b[43mProduct_links\u001b[49m\u001b[38;5;241;43m.\u001b[39;49m\u001b[43mfind\u001b[49m(\u001b[38;5;124m\"\u001b[39m\u001b[38;5;124ma\u001b[39m\u001b[38;5;124m\"\u001b[39m, {\u001b[38;5;124m'\u001b[39m\u001b[38;5;124mclass\u001b[39m\u001b[38;5;124m'\u001b[39m:\u001b[38;5;124m'\u001b[39m\u001b[38;5;124mdp-widget-link\u001b[39m\u001b[38;5;124m'\u001b[39m})\n",
      "File \u001b[0;32m/opt/conda/lib/python3.10/site-packages/bs4/element.py:2289\u001b[0m, in \u001b[0;36mResultSet.__getattr__\u001b[0;34m(self, key)\u001b[0m\n\u001b[1;32m   2287\u001b[0m \u001b[38;5;28;01mdef\u001b[39;00m \u001b[38;5;21m__getattr__\u001b[39m(\u001b[38;5;28mself\u001b[39m, key):\n\u001b[1;32m   2288\u001b[0m     \u001b[38;5;124;03m\"\"\"Raise a helpful exception to explain a common code fix.\"\"\"\u001b[39;00m\n\u001b[0;32m-> 2289\u001b[0m     \u001b[38;5;28;01mraise\u001b[39;00m \u001b[38;5;167;01mAttributeError\u001b[39;00m(\n\u001b[1;32m   2290\u001b[0m         \u001b[38;5;124m\"\u001b[39m\u001b[38;5;124mResultSet object has no attribute \u001b[39m\u001b[38;5;124m'\u001b[39m\u001b[38;5;132;01m%s\u001b[39;00m\u001b[38;5;124m'\u001b[39m\u001b[38;5;124m. You\u001b[39m\u001b[38;5;124m'\u001b[39m\u001b[38;5;124mre probably treating a list of elements like a single element. Did you call find_all() when you meant to call find()?\u001b[39m\u001b[38;5;124m\"\u001b[39m \u001b[38;5;241m%\u001b[39m key\n\u001b[1;32m   2291\u001b[0m     )\n",
      "\u001b[0;31mAttributeError\u001b[0m: ResultSet object has no attribute 'find'. You're probably treating a list of elements like a single element. Did you call find_all() when you meant to call find()?"
     ]
    }
   ],
   "source": [
    "Product_links.find(\"a\", {'class':'dp-widget-link'})"
   ]
  },
  {
   "cell_type": "code",
   "execution_count": 251,
   "id": "00b51764-5a5a-4b1e-9f9c-5443caaa2dc1",
   "metadata": {},
   "outputs": [
    {
     "ename": "AttributeError",
     "evalue": "ResultSet object has no attribute 'find_all'. You're probably treating a list of elements like a single element. Did you call find_all() when you meant to call find()?",
     "output_type": "error",
     "traceback": [
      "\u001b[0;31m---------------------------------------------------------------------------\u001b[0m",
      "\u001b[0;31mAttributeError\u001b[0m                            Traceback (most recent call last)",
      "Cell \u001b[0;32mIn[251], line 1\u001b[0m\n\u001b[0;32m----> 1\u001b[0m \u001b[38;5;28;01mfor\u001b[39;00m i \u001b[38;5;129;01min\u001b[39;00m \u001b[43mProduct_links\u001b[49m\u001b[38;5;241;43m.\u001b[39;49m\u001b[43mfind_all\u001b[49m(\u001b[38;5;124m\"\u001b[39m\u001b[38;5;124ma\u001b[39m\u001b[38;5;124m\"\u001b[39m):\n\u001b[1;32m      2\u001b[0m     \u001b[38;5;28mprint\u001b[39m(i\u001b[38;5;241m.\u001b[39mget(\u001b[38;5;124m'\u001b[39m\u001b[38;5;124mhref\u001b[39m\u001b[38;5;124m'\u001b[39m))\n",
      "File \u001b[0;32m/opt/conda/lib/python3.10/site-packages/bs4/element.py:2289\u001b[0m, in \u001b[0;36mResultSet.__getattr__\u001b[0;34m(self, key)\u001b[0m\n\u001b[1;32m   2287\u001b[0m \u001b[38;5;28;01mdef\u001b[39;00m \u001b[38;5;21m__getattr__\u001b[39m(\u001b[38;5;28mself\u001b[39m, key):\n\u001b[1;32m   2288\u001b[0m     \u001b[38;5;124;03m\"\"\"Raise a helpful exception to explain a common code fix.\"\"\"\u001b[39;00m\n\u001b[0;32m-> 2289\u001b[0m     \u001b[38;5;28;01mraise\u001b[39;00m \u001b[38;5;167;01mAttributeError\u001b[39;00m(\n\u001b[1;32m   2290\u001b[0m         \u001b[38;5;124m\"\u001b[39m\u001b[38;5;124mResultSet object has no attribute \u001b[39m\u001b[38;5;124m'\u001b[39m\u001b[38;5;132;01m%s\u001b[39;00m\u001b[38;5;124m'\u001b[39m\u001b[38;5;124m. You\u001b[39m\u001b[38;5;124m'\u001b[39m\u001b[38;5;124mre probably treating a list of elements like a single element. Did you call find_all() when you meant to call find()?\u001b[39m\u001b[38;5;124m\"\u001b[39m \u001b[38;5;241m%\u001b[39m key\n\u001b[1;32m   2291\u001b[0m     )\n",
      "\u001b[0;31mAttributeError\u001b[0m: ResultSet object has no attribute 'find_all'. You're probably treating a list of elements like a single element. Did you call find_all() when you meant to call find()?"
     ]
    }
   ],
   "source": [
    "for i in Product_links.find_all(\"a\"):\n",
    "    print(i.get('href'))\n"
   ]
  },
  {
   "cell_type": "code",
   "execution_count": 211,
   "id": "b5ee6329-55dc-4e3d-bca5-9c4d7f154cdf",
   "metadata": {},
   "outputs": [
    {
     "name": "stdout",
     "output_type": "stream",
     "text": [
      "https://www.snapdeal.com/product/resist-eyewear-white-rectangular-sunglasses/675786944992\n",
      "https://www.snapdeal.com/product/fairx-gold-pilot-sunglasses-pack/629262918242\n",
      "https://www.snapdeal.com/product/creature-sunglasses-combo-2-pairs/652918529468\n",
      "https://www.snapdeal.com/product/fairx-gold-pilot-sunglasses-pack/675760768125\n",
      "https://www.snapdeal.com/product/david-martin-black-square-sunglasses/668734130310\n",
      "https://www.snapdeal.com/product/kanny-devis-gold-pilot-sunglasses/651918715835\n",
      "https://www.snapdeal.com/product/peter-jones-brown-oversized-sunglasses/657027337593\n",
      "https://www.snapdeal.com/product/resist-eyewear-black-rectangular-sunglasses/675322456895\n",
      "https://www.snapdeal.com/product/suntap-black-square-sunglasses-pack/675318914499\n",
      "https://www.snapdeal.com/product/kanny-devis-black-rectangular-sunglasses/677477501137\n",
      "https://www.snapdeal.com/product/resist-eyewear-black-rectanglesquarejustin-sunglasses/628473844776\n",
      "https://www.snapdeal.com/product/peter-jones-blue-square-sunglasses/630819582365\n",
      "https://www.snapdeal.com/product/kanny-devis-black-oval-sunglasses/639801389179\n",
      "https://www.snapdeal.com/product/creature-sunglasses-combo-2-pairs/662017848857\n",
      "https://www.snapdeal.com/product/arizona-sunglasses-purple-rectangle-sunglasses/668637584109\n",
      "https://www.snapdeal.com/product/creature-black-round-sunglasses-pack/668116704081\n",
      "https://www.snapdeal.com/product/peter-jones-black-square-sunglasses/682967913352\n",
      "https://www.snapdeal.com/product/creature-black-rectangle-pack-of/671865611867\n",
      "https://www.snapdeal.com/product/style-smith-black-oversized-sunglasses/672986497143\n",
      "https://www.snapdeal.com/product/fairx-copper-pilot-sunglasses-pack/646597161521\n"
     ]
    }
   ],
   "source": [
    "for i in Product_links:\n",
    "    print(i.a['href'])"
   ]
  },
  {
   "cell_type": "code",
   "execution_count": 23,
   "id": "fa31c197-db23-4f57-bf07-dea1b1b3f5ea",
   "metadata": {},
   "outputs": [],
   "source": [
    "Oneproduct = Product_links[0].a['href']"
   ]
  },
  {
   "cell_type": "code",
   "execution_count": 24,
   "id": "919132b6-9995-453b-b0c2-83e09dbece4e",
   "metadata": {},
   "outputs": [
    {
     "data": {
      "text/plain": [
       "'https://www.snapdeal.com/product/resist-eyewear-white-rectangular-sunglasses/675786944992'"
      ]
     },
     "execution_count": 24,
     "metadata": {},
     "output_type": "execute_result"
    }
   ],
   "source": [
    "productlist= Oneproduct\n",
    "productlist"
   ]
  },
  {
   "cell_type": "code",
   "execution_count": 25,
   "id": "ce7db1a5-08d1-4f57-99ea-7c0edbfa7ae9",
   "metadata": {},
   "outputs": [],
   "source": [
    "new_webpage = requests.get(productlist, headers= Headers)"
   ]
  },
  {
   "cell_type": "code",
   "execution_count": 193,
   "id": "a73216f9-7b54-4521-979f-b0094dc67702",
   "metadata": {},
   "outputs": [
    {
     "data": {
      "text/plain": [
       "<Response [200]>"
      ]
     },
     "execution_count": 193,
     "metadata": {},
     "output_type": "execute_result"
    }
   ],
   "source": [
    "new_webpage"
   ]
  },
  {
   "cell_type": "code",
   "execution_count": 27,
   "id": "00896a88-5f9a-4c5f-b9a1-fdee352224ce",
   "metadata": {},
   "outputs": [],
   "source": [
    "soup = BeautifulSoup(new_webpage.content, 'html.parser')"
   ]
  },
  {
   "cell_type": "code",
   "execution_count": 79,
   "id": "b852fcd1-f08d-4df8-b92a-d8b9f36b133d",
   "metadata": {},
   "outputs": [],
   "source": [
    "#soup"
   ]
  },
  {
   "cell_type": "code",
   "execution_count": 28,
   "id": "89051b6e-84be-48f0-ad23-cb5c5f1e3642",
   "metadata": {},
   "outputs": [],
   "source": [
    "Product_Title = soup.find(\"h1\", attrs={'class':'pdp-e-i-head'})"
   ]
  },
  {
   "cell_type": "code",
   "execution_count": 30,
   "id": "95c6ba2e-5b2a-4766-a261-9ffbe3dbce7b",
   "metadata": {},
   "outputs": [
    {
     "data": {
      "text/plain": [
       "'RESIST EYEWEAR - White Rectangular Sunglasses ( Pack of 1 )'"
      ]
     },
     "execution_count": 30,
     "metadata": {},
     "output_type": "execute_result"
    }
   ],
   "source": [
    "Product_Title.text.strip()"
   ]
  },
  {
   "cell_type": "code",
   "execution_count": 31,
   "id": "4ea437ea-d276-4bd2-906c-ca8e611f2be2",
   "metadata": {},
   "outputs": [],
   "source": [
    "Product_Title = soup.find(\"h1\", attrs={'class':'pdp-e-i-head'}).string.strip()"
   ]
  },
  {
   "cell_type": "code",
   "execution_count": 32,
   "id": "a4e7af9d-17cf-4bd3-a7e9-fcdb873c813a",
   "metadata": {},
   "outputs": [
    {
     "data": {
      "text/plain": [
       "'RESIST EYEWEAR - White Rectangular Sunglasses ( Pack of 1 )'"
      ]
     },
     "execution_count": 32,
     "metadata": {},
     "output_type": "execute_result"
    }
   ],
   "source": [
    "Product_Title"
   ]
  },
  {
   "cell_type": "code",
   "execution_count": 33,
   "id": "d1418747-0425-4fc5-a615-37fe3249a501",
   "metadata": {},
   "outputs": [],
   "source": [
    "price = soup.find(\"span\", attrs = {'class':'payBlkBig'}).text"
   ]
  },
  {
   "cell_type": "code",
   "execution_count": 34,
   "id": "55de9589-454c-4218-a112-93ff9547658d",
   "metadata": {},
   "outputs": [
    {
     "data": {
      "text/plain": [
       "'849'"
      ]
     },
     "execution_count": 34,
     "metadata": {},
     "output_type": "execute_result"
    }
   ],
   "source": [
    "price"
   ]
  },
  {
   "cell_type": "code",
   "execution_count": 35,
   "id": "45eacfe1-b31b-4d9b-948e-6bef56476edb",
   "metadata": {},
   "outputs": [],
   "source": [
    "rating = soup.find(\"span\", attrs = {'class':'avrg-rating'}).text"
   ]
  },
  {
   "cell_type": "code",
   "execution_count": 36,
   "id": "77fabc1f-0e19-41ed-9b53-81b3ab0b2a2c",
   "metadata": {},
   "outputs": [
    {
     "data": {
      "text/plain": [
       "'(5.0)'"
      ]
     },
     "execution_count": 36,
     "metadata": {},
     "output_type": "execute_result"
    }
   ],
   "source": [
    "rating"
   ]
  },
  {
   "cell_type": "code",
   "execution_count": null,
   "id": "1b414916-26ed-4284-966c-313e71aa5c16",
   "metadata": {},
   "outputs": [],
   "source": [
    "rating2=soup.find(\"span\", attrs={'class':\"total-rating showRatingTooltip\"}).text"
   ]
  },
  {
   "cell_type": "code",
   "execution_count": 38,
   "id": "b8b9fa3a-0427-47cf-a9a5-69431911a700",
   "metadata": {},
   "outputs": [
    {
     "data": {
      "text/plain": [
       "'5 Ratings'"
      ]
     },
     "execution_count": 38,
     "metadata": {},
     "output_type": "execute_result"
    }
   ],
   "source": [
    "rating2"
   ]
  },
  {
   "cell_type": "code",
   "execution_count": 91,
   "id": "ab37e12f-30fa-49bd-b376-61409fab9fda",
   "metadata": {},
   "outputs": [],
   "source": [
    "Product_Description = soup.find_all(\"div\", attrs={'class':'detailssubbox'})"
   ]
  },
  {
   "cell_type": "code",
   "execution_count": 92,
   "id": "60b21909-764b-4ba4-8771-3ea61377696f",
   "metadata": {},
   "outputs": [
    {
     "data": {
      "text/plain": [
       "'POLY CARBONATE LENS : 100% UV Protection - 100% Protection Against Harmful UVA/UVB Rays. UVA and UVB Ultra Violet Blocking Lenses for Eliminating Glare While Maintaining Colour Integrity. High-Definition Lens Gives You A Natural and Clear Vision; Durable and Shatterproof. DESIGN : Design is architect in such a way that it will make your goggles more stable and more comfortable to wear every day. ACTIVITY : Whether you go for hiking, fishing, riding the adventure will surely be promising. It will also ensures you always stand out with your unique style.'"
      ]
     },
     "execution_count": 92,
     "metadata": {},
     "output_type": "execute_result"
    }
   ],
   "source": [
    "Product_Description[1].text.strip()"
   ]
  },
  {
   "cell_type": "code",
   "execution_count": 151,
   "id": "fd55b660-a995-4234-96d6-4beb04936b82",
   "metadata": {},
   "outputs": [],
   "source": [
    "Product_Review = soup.find(\"div\", {'class':'sellerNameContainer h2 blackText'})"
   ]
  },
  {
   "cell_type": "code",
   "execution_count": 155,
   "id": "1a3a003c-df86-436e-849c-bfa872ee8780",
   "metadata": {},
   "outputs": [],
   "source": [
    "Seller_Name=Product_Review.find(\"span\").text"
   ]
  },
  {
   "cell_type": "code",
   "execution_count": 156,
   "id": "dfe371c9-152f-4d1b-89d7-a899e24389b7",
   "metadata": {},
   "outputs": [
    {
     "data": {
      "text/plain": [
       "'vl enterprise llp'"
      ]
     },
     "execution_count": 156,
     "metadata": {},
     "output_type": "execute_result"
    }
   ],
   "source": [
    "Seller_Name"
   ]
  },
  {
   "cell_type": "code",
   "execution_count": 166,
   "id": "cb1f731f-6052-4b7b-b685-17642c7890aa",
   "metadata": {},
   "outputs": [],
   "source": [
    "u = \"https://www.snapdeal.com/search?clickSrc=top_searches&keyword=sunglasses&categoryId=0&vertical=p&noOfResults=20&SRPID=topsearch&sort=rlvncy\""
   ]
  },
  {
   "cell_type": "code",
   "execution_count": 168,
   "id": "78e577d7-5514-46f6-954d-5781bc45426d",
   "metadata": {},
   "outputs": [],
   "source": [
    "wb = requests.get(u, headers= Headers)"
   ]
  },
  {
   "cell_type": "code",
   "execution_count": 169,
   "id": "79d04fab-de2c-49ed-9048-d12f14ec5634",
   "metadata": {},
   "outputs": [
    {
     "data": {
      "text/plain": [
       "<Response [200]>"
      ]
     },
     "execution_count": 169,
     "metadata": {},
     "output_type": "execute_result"
    }
   ],
   "source": [
    "wb"
   ]
  },
  {
   "cell_type": "code",
   "execution_count": 172,
   "id": "e57e7310-5373-4c45-9dca-193b9320d0d9",
   "metadata": {},
   "outputs": [],
   "source": [
    "sp = BeautifulSoup(wb.content, 'html.parser')"
   ]
  },
  {
   "cell_type": "code",
   "execution_count": 174,
   "id": "522b8418-3c24-4580-89cf-beb6d9a53288",
   "metadata": {},
   "outputs": [],
   "source": [
    "#sp"
   ]
  },
  {
   "cell_type": "code",
   "execution_count": 179,
   "id": "5c47a953-040d-4806-ad1f-220cb7af3125",
   "metadata": {},
   "outputs": [],
   "source": [
    "link = sp.find_all('a', class_=\"filter-name\")"
   ]
  },
  {
   "cell_type": "code",
   "execution_count": null,
   "id": "b7fd63c2-997b-4ea6-860e-4191c0ea2612",
   "metadata": {},
   "outputs": [
    {
     "data": {
      "text/plain": [
       "[<a class=\"filter-name\" href=\"https://www.snapdeal.com/products//filters/avgRating~4~$~0\">\n",
       " <div class=\"rating-stars\">\n",
       " <div class=\"grey-stars\"></div>\n",
       " <div class=\"filled-stars\" style=\"width:80.0%\"></div>\n",
       " </div>\n",
       " <span class=\"more-rating padL15\">&amp; Up</span>\n",
       " </a>,\n",
       " <a class=\"filter-name\" href=\"https://www.snapdeal.com/products//filters/avgRating~3~$~0\">\n",
       " <div class=\"rating-stars\">\n",
       " <div class=\"grey-stars\"></div>\n",
       " <div class=\"filled-stars\" style=\"width:60.0%\"></div>\n",
       " </div>\n",
       " <span class=\"more-rating padL15\">&amp; Up</span>\n",
       " </a>,\n",
       " <a class=\"filter-name\" href=\"https://www.snapdeal.com/products//filters/avgRating~2~$~0\">\n",
       " <div class=\"rating-stars\">\n",
       " <div class=\"grey-stars\"></div>\n",
       " <div class=\"filled-stars\" style=\"width:40.0%\"></div>\n",
       " </div>\n",
       " <span class=\"more-rating padL15\">&amp; Up</span>\n",
       " </a>,\n",
       " <a class=\"filter-name\" href=\"https://www.snapdeal.com/products//filters/avgRating~1~$~0\">\n",
       " <div class=\"rating-stars\">\n",
       " <div class=\"grey-stars\"></div>\n",
       " <div class=\"filled-stars\" style=\"width:20.0%\"></div>\n",
       " </div>\n",
       " <span class=\"more-rating padL15\">&amp; Up</span>\n",
       " </a>,\n",
       " <a class=\"filter-name\" href=\"https://www.snapdeal.com/products//filters/Gender_s~Unisex\">\n",
       " \t\t\t\t\t\t\t\t\t\t\t\tUnisex</a>,\n",
       " <a class=\"filter-name\" href=\"https://www.snapdeal.com/products//filters/Gender_s~Boys\">\n",
       " \t\t\t\t\t\t\t\t\t\t\t\tBoys</a>,\n",
       " <a class=\"filter-name\" href=\"https://www.snapdeal.com/products//filters/Gender_s~Men\">\n",
       " \t\t\t\t\t\t\t\t\t\t\t\tMen</a>,\n",
       " <a class=\"filter-name\" href=\"https://www.snapdeal.com/products//filters/Gender_s~Men%20Only\">\n",
       " \t\t\t\t\t\t\t\t\t\t\t\tMen Only</a>,\n",
       " <a class=\"filter-name\" href=\"https://www.snapdeal.com/products//filters/Gender_s~Women\">\n",
       " \t\t\t\t\t\t\t\t\t\t\t\tWomen</a>,\n",
       " <a class=\"filter-name\" href=\"https://www.snapdeal.com/products//filters/Gender_s~Women%20Only\">\n",
       " \t\t\t\t\t\t\t\t\t\t\t\tWomen Only</a>,\n",
       " <a class=\"filter-name\" href=\"https://www.snapdeal.com/products//filters/FrameShape_s~Aviator\">\n",
       " \t\t\t\t\t\t\t\t\t\t\t\tAviator</a>,\n",
       " <a class=\"filter-name\" href=\"https://www.snapdeal.com/products//filters/FrameShape_s~Bug%20Eye\">\n",
       " \t\t\t\t\t\t\t\t\t\t\t\tBug Eye</a>,\n",
       " <a class=\"filter-name\" href=\"https://www.snapdeal.com/products//filters/FrameShape_s~Butterfly\">\n",
       " \t\t\t\t\t\t\t\t\t\t\t\tButterfly</a>,\n",
       " <a class=\"filter-name\" href=\"https://www.snapdeal.com/products//filters/FrameShape_s~Cat%20Eye\">\n",
       " \t\t\t\t\t\t\t\t\t\t\t\tCat Eye</a>,\n",
       " <a class=\"filter-name\" href=\"https://www.snapdeal.com/products//filters/FrameShape_s~Justin\">\n",
       " \t\t\t\t\t\t\t\t\t\t\t\tJustin</a>,\n",
       " <a class=\"filter-name\" href=\"https://www.snapdeal.com/products//filters/FrameShape_s~Oval\">\n",
       " \t\t\t\t\t\t\t\t\t\t\t\tOval</a>,\n",
       " <a class=\"filter-name\" href=\"https://www.snapdeal.com/products//filters/FrameShape_s~Oversized\">\n",
       " \t\t\t\t\t\t\t\t\t\t\t\tOversized</a>,\n",
       " <a class=\"filter-name\" href=\"https://www.snapdeal.com/products//filters/FrameShape_s~Panto\">\n",
       " \t\t\t\t\t\t\t\t\t\t\t\tPanto</a>,\n",
       " <a class=\"filter-name\" href=\"https://www.snapdeal.com/products//filters/FrameShape_s~Pilot\">\n",
       " \t\t\t\t\t\t\t\t\t\t\t\tPilot</a>,\n",
       " <a class=\"filter-name\" href=\"https://www.snapdeal.com/products//filters/FrameShape_s~Rectangle\">\n",
       " \t\t\t\t\t\t\t\t\t\t\t\tRectangle</a>,\n",
       " <a class=\"filter-name\" href=\"https://www.snapdeal.com/products//filters/FrameShape_s~Round\">\n",
       " \t\t\t\t\t\t\t\t\t\t\t\tRound</a>,\n",
       " <a class=\"filter-name\" href=\"https://www.snapdeal.com/products//filters/FrameShape_s~Square\">\n",
       " \t\t\t\t\t\t\t\t\t\t\t\tSquare</a>,\n",
       " <a class=\"filter-name\" href=\"https://www.snapdeal.com/products//filters/FrameShape_s~Wrap%20Around\">\n",
       " \t\t\t\t\t\t\t\t\t\t\t\tWrap Around</a>,\n",
       " <a class=\"filter-name\" href=\"https://www.snapdeal.com/products//filters/FrameColor_s~Beige\">\n",
       " \t\t\t\t\t\t\t\t\t\t\t\tBeige</a>,\n",
       " <a class=\"filter-name\" href=\"https://www.snapdeal.com/products//filters/FrameColor_s~Black\">\n",
       " \t\t\t\t\t\t\t\t\t\t\t\tBlack</a>,\n",
       " <a class=\"filter-name\" href=\"https://www.snapdeal.com/products//filters/FrameColor_s~Blue\">\n",
       " \t\t\t\t\t\t\t\t\t\t\t\tBlue</a>,\n",
       " <a class=\"filter-name\" href=\"https://www.snapdeal.com/products//filters/FrameColor_s~Bronze\">\n",
       " \t\t\t\t\t\t\t\t\t\t\t\tBronze</a>,\n",
       " <a class=\"filter-name\" href=\"https://www.snapdeal.com/products//filters/FrameColor_s~Brown\">\n",
       " \t\t\t\t\t\t\t\t\t\t\t\tBrown</a>,\n",
       " <a class=\"filter-name\" href=\"https://www.snapdeal.com/products//filters/FrameColor_s~Copper\">\n",
       " \t\t\t\t\t\t\t\t\t\t\t\tCopper</a>,\n",
       " <a class=\"filter-name\" href=\"https://www.snapdeal.com/products//filters/FrameColor_s~Cream\">\n",
       " \t\t\t\t\t\t\t\t\t\t\t\tCream</a>,\n",
       " <a class=\"filter-name\" href=\"https://www.snapdeal.com/products//filters/FrameColor_s~Dark%20Grey\">\n",
       " \t\t\t\t\t\t\t\t\t\t\t\tDark Grey</a>,\n",
       " <a class=\"filter-name\" href=\"https://www.snapdeal.com/products//filters/FrameColor_s~Gold\">\n",
       " \t\t\t\t\t\t\t\t\t\t\t\tGold</a>,\n",
       " <a class=\"filter-name\" href=\"https://www.snapdeal.com/products//filters/FrameColor_s~Green\">\n",
       " \t\t\t\t\t\t\t\t\t\t\t\tGreen</a>,\n",
       " <a class=\"filter-name\" href=\"https://www.snapdeal.com/products//filters/FrameColor_s~Grey%20Melange\">\n",
       " \t\t\t\t\t\t\t\t\t\t\t\tGrey Melange</a>,\n",
       " <a class=\"filter-name\" href=\"https://www.snapdeal.com/products//filters/FrameColor_s~Light%20Blue\">\n",
       " \t\t\t\t\t\t\t\t\t\t\t\tLight Blue</a>,\n",
       " <a class=\"filter-name\" href=\"https://www.snapdeal.com/products//filters/FrameColor_s~Light%20Grey\">\n",
       " \t\t\t\t\t\t\t\t\t\t\t\tLight Grey</a>,\n",
       " <a class=\"filter-name\" href=\"https://www.snapdeal.com/products//filters/FrameColor_s~Magenta\">\n",
       " \t\t\t\t\t\t\t\t\t\t\t\tMagenta</a>,\n",
       " <a class=\"filter-name\" href=\"https://www.snapdeal.com/products//filters/FrameColor_s~Multicolor\">\n",
       " \t\t\t\t\t\t\t\t\t\t\t\tMulticolor</a>,\n",
       " <a class=\"filter-name\" href=\"https://www.snapdeal.com/products//filters/FrameColor_s~Off%20White\">\n",
       " \t\t\t\t\t\t\t\t\t\t\t\tOff White</a>,\n",
       " <a class=\"filter-name\" href=\"https://www.snapdeal.com/products//filters/FrameColor_s~Olive\">\n",
       " \t\t\t\t\t\t\t\t\t\t\t\tOlive</a>,\n",
       " <a class=\"filter-name\" href=\"https://www.snapdeal.com/products//filters/FrameColor_s~Orange\">\n",
       " \t\t\t\t\t\t\t\t\t\t\t\tOrange</a>,\n",
       " <a class=\"filter-name\" href=\"https://www.snapdeal.com/products//filters/FrameColor_s~Pink\">\n",
       " \t\t\t\t\t\t\t\t\t\t\t\tPink</a>,\n",
       " <a class=\"filter-name\" href=\"https://www.snapdeal.com/products//filters/FrameColor_s~Purple\">\n",
       " \t\t\t\t\t\t\t\t\t\t\t\tPurple</a>,\n",
       " <a class=\"filter-name\" href=\"https://www.snapdeal.com/products//filters/FrameColor_s~Red\">\n",
       " \t\t\t\t\t\t\t\t\t\t\t\tRed</a>,\n",
       " <a class=\"filter-name\" href=\"https://www.snapdeal.com/products//filters/FrameColor_s~Rose%20Gold\">\n",
       " \t\t\t\t\t\t\t\t\t\t\t\tRose Gold</a>,\n",
       " <a class=\"filter-name\" href=\"https://www.snapdeal.com/products//filters/FrameColor_s~Silver\">\n",
       " \t\t\t\t\t\t\t\t\t\t\t\tSilver</a>,\n",
       " <a class=\"filter-name\" href=\"https://www.snapdeal.com/products//filters/FrameColor_s~Turquoise\">\n",
       " \t\t\t\t\t\t\t\t\t\t\t\tTurquoise</a>,\n",
       " <a class=\"filter-name\" href=\"https://www.snapdeal.com/products//filters/FrameColor_s~White\">\n",
       " \t\t\t\t\t\t\t\t\t\t\t\tWhite</a>,\n",
       " <a class=\"filter-name\" href=\"https://www.snapdeal.com/products//filters/FrameColor_s~Wine\">\n",
       " \t\t\t\t\t\t\t\t\t\t\t\tWine</a>,\n",
       " <a class=\"filter-name\" href=\"https://www.snapdeal.com/products//filters/FrameColor_s~Yellow\">\n",
       " \t\t\t\t\t\t\t\t\t\t\t\tYellow</a>,\n",
       " <a class=\"filter-name\" href=\"https://www.snapdeal.com/products//filters/Brand~A-1%20PURE%20STEEL%20SCUBBER\">\n",
       " \t\t\t\t\t\t\t\t\t\t\t\tA-1 PURE STEEL SCUBBER</a>,\n",
       " <a class=\"filter-name\" href=\"https://www.snapdeal.com/products//filters/Brand~A1%20MEN%20WATCHES\">\n",
       " \t\t\t\t\t\t\t\t\t\t\t\tA1 MEN WATCHES</a>,\n",
       " <a class=\"filter-name\" href=\"https://www.snapdeal.com/products//filters/Brand~Ang\">\n",
       " \t\t\t\t\t\t\t\t\t\t\t\tAng</a>,\n",
       " <a class=\"filter-name\" href=\"https://www.snapdeal.com/products//filters/Brand~Arizona\">\n",
       " \t\t\t\t\t\t\t\t\t\t\t\tArizona</a>,\n",
       " <a class=\"filter-name\" href=\"https://www.snapdeal.com/products//filters/Brand~Arizona%20Sunglasses\">\n",
       " \t\t\t\t\t\t\t\t\t\t\t\tArizona Sunglasses</a>,\n",
       " <a class=\"filter-name\" href=\"https://www.snapdeal.com/products//filters/Size_s~11-12%20Years\">\n",
       " \t\t\t\t\t\t\t\t\t\t\t\t11-12 Years</a>,\n",
       " <a class=\"filter-name\" href=\"https://www.snapdeal.com/products//filters/Size_s~7-8%20Years\">\n",
       " \t\t\t\t\t\t\t\t\t\t\t\t7-8 Years</a>,\n",
       " <a class=\"filter-name\" href=\"https://www.snapdeal.com/products//filters/Size_s~9-10%20Years\">\n",
       " \t\t\t\t\t\t\t\t\t\t\t\t9-10 Years</a>,\n",
       " <a class=\"filter-name\" href=\"https://www.snapdeal.com/products//filters/Size_s~All\">\n",
       " \t\t\t\t\t\t\t\t\t\t\t\tAll</a>,\n",
       " <a class=\"filter-name\" href=\"https://www.snapdeal.com/products//filters/Size_s~Freesize\">\n",
       " \t\t\t\t\t\t\t\t\t\t\t\tFreesize</a>,\n",
       " <a class=\"filter-name\" href=\"https://www.snapdeal.com/products//filters/Size_s~Large\">\n",
       " \t\t\t\t\t\t\t\t\t\t\t\tLarge</a>,\n",
       " <a class=\"filter-name\" href=\"https://www.snapdeal.com/products//filters/Size_s~M\">\n",
       " \t\t\t\t\t\t\t\t\t\t\t\tM</a>,\n",
       " <a class=\"filter-name\" href=\"https://www.snapdeal.com/products//filters/Size_s~Medium\">\n",
       " \t\t\t\t\t\t\t\t\t\t\t\tMedium</a>,\n",
       " <a class=\"filter-name\" href=\"https://www.snapdeal.com/products//filters/Size_s~Small\">\n",
       " \t\t\t\t\t\t\t\t\t\t\t\tSmall</a>,\n",
       " <a class=\"filter-name\" href=\"https://www.snapdeal.com/products//filters/Size_s~XL\">\n",
       " \t\t\t\t\t\t\t\t\t\t\t\tXL</a>,\n",
       " <a class=\"filter-name\" href=\"https://www.snapdeal.com/products//filters/Color_s~Assorted\">\n",
       " \t\t\t\t\t\t\t\t\t\t\t\tAssorted</a>,\n",
       " <a class=\"filter-name\" href=\"https://www.snapdeal.com/products//filters/Color_s~Black\">\n",
       " \t\t\t\t\t\t\t\t\t\t\t\tBlack</a>,\n",
       " <a class=\"filter-name\" href=\"https://www.snapdeal.com/products//filters/Color_s~Blue\">\n",
       " \t\t\t\t\t\t\t\t\t\t\t\tBlue</a>,\n",
       " <a class=\"filter-name\" href=\"https://www.snapdeal.com/products//filters/Color_s~Brown\">\n",
       " \t\t\t\t\t\t\t\t\t\t\t\tBrown</a>,\n",
       " <a class=\"filter-name\" href=\"https://www.snapdeal.com/products//filters/Color_s~Clear\">\n",
       " \t\t\t\t\t\t\t\t\t\t\t\tClear</a>,\n",
       " <a class=\"filter-name\" href=\"https://www.snapdeal.com/products//filters/Color_s~Gold\">\n",
       " \t\t\t\t\t\t\t\t\t\t\t\tGold</a>,\n",
       " <a class=\"filter-name\" href=\"https://www.snapdeal.com/products//filters/Color_s~Gray\">\n",
       " \t\t\t\t\t\t\t\t\t\t\t\tGray</a>,\n",
       " <a class=\"filter-name\" href=\"https://www.snapdeal.com/products//filters/Color_s~Green\">\n",
       " \t\t\t\t\t\t\t\t\t\t\t\tGreen</a>,\n",
       " <a class=\"filter-name\" href=\"https://www.snapdeal.com/products//filters/Color_s~Multi\">\n",
       " \t\t\t\t\t\t\t\t\t\t\t\tMulti</a>,\n",
       " <a class=\"filter-name\" href=\"https://www.snapdeal.com/products//filters/Color_s~Multicolor\">\n",
       " \t\t\t\t\t\t\t\t\t\t\t\tMulticolor</a>,\n",
       " <a class=\"filter-name\" href=\"https://www.snapdeal.com/products//filters/Color_s~Orange\">\n",
       " \t\t\t\t\t\t\t\t\t\t\t\tOrange</a>,\n",
       " <a class=\"filter-name\" href=\"https://www.snapdeal.com/products//filters/Color_s~Pink\">\n",
       " \t\t\t\t\t\t\t\t\t\t\t\tPink</a>,\n",
       " <a class=\"filter-name\" href=\"https://www.snapdeal.com/products//filters/Color_s~Purple\">\n",
       " \t\t\t\t\t\t\t\t\t\t\t\tPurple</a>,\n",
       " <a class=\"filter-name\" href=\"https://www.snapdeal.com/products//filters/Color_s~Red\">\n",
       " \t\t\t\t\t\t\t\t\t\t\t\tRed</a>,\n",
       " <a class=\"filter-name\" href=\"https://www.snapdeal.com/products//filters/Color_s~Silver\">\n",
       " \t\t\t\t\t\t\t\t\t\t\t\tSilver</a>,\n",
       " <a class=\"filter-name\" href=\"https://www.snapdeal.com/products//filters/Color_s~White\">\n",
       " \t\t\t\t\t\t\t\t\t\t\t\tWhite</a>,\n",
       " <a class=\"filter-name\" href=\"https://www.snapdeal.com/products//filters/Color_s~Yellow\">\n",
       " \t\t\t\t\t\t\t\t\t\t\t\tYellow</a>,\n",
       " <a class=\"filter-name\" href=\"https://www.snapdeal.com/products//filters/FrameMaterial_s~Acetate\">\n",
       " \t\t\t\t\t\t\t\t\t\t\t\tAcetate</a>,\n",
       " <a class=\"filter-name\" href=\"https://www.snapdeal.com/products//filters/FrameMaterial_s~Metal\">\n",
       " \t\t\t\t\t\t\t\t\t\t\t\tMetal</a>,\n",
       " <a class=\"filter-name\" href=\"https://www.snapdeal.com/products//filters/FrameMaterial_s~Metallic\">\n",
       " \t\t\t\t\t\t\t\t\t\t\t\tMetallic</a>,\n",
       " <a class=\"filter-name\" href=\"https://www.snapdeal.com/products//filters/FrameMaterial_s~Non%20Metal\">\n",
       " \t\t\t\t\t\t\t\t\t\t\t\tNon Metal</a>,\n",
       " <a class=\"filter-name\" href=\"https://www.snapdeal.com/products//filters/FrameMaterial_s~Non-Metal\">\n",
       " \t\t\t\t\t\t\t\t\t\t\t\tNon-Metal</a>,\n",
       " <a class=\"filter-name\" href=\"https://www.snapdeal.com/products//filters/FrameMaterial_s~Plastic\">\n",
       " \t\t\t\t\t\t\t\t\t\t\t\tPlastic</a>,\n",
       " <a class=\"filter-name\" href=\"https://www.snapdeal.com/products//filters/FrameMaterial_s~Polycarbonate\">\n",
       " \t\t\t\t\t\t\t\t\t\t\t\tPolycarbonate</a>,\n",
       " <a class=\"filter-name\" href=\"https://www.snapdeal.com/products//filters/FrameMaterial_s~Stainless%20Steel\">\n",
       " \t\t\t\t\t\t\t\t\t\t\t\tStainless Steel</a>,\n",
       " <a class=\"filter-name\" href=\"https://www.snapdeal.com/products//filters/FrameMaterial_s~Wooden\">\n",
       " \t\t\t\t\t\t\t\t\t\t\t\tWooden</a>,\n",
       " <a class=\"filter-name\" href=\"https://www.snapdeal.com/products//filters/LensMaterial_s~CR%20Lens\">\n",
       " \t\t\t\t\t\t\t\t\t\t\t\tCR Lens</a>,\n",
       " <a class=\"filter-name\" href=\"https://www.snapdeal.com/products//filters/LensMaterial_s~Glass\">\n",
       " \t\t\t\t\t\t\t\t\t\t\t\tGlass</a>,\n",
       " <a class=\"filter-name\" href=\"https://www.snapdeal.com/products//filters/LensMaterial_s~Plastic\">\n",
       " \t\t\t\t\t\t\t\t\t\t\t\tPlastic</a>,\n",
       " <a class=\"filter-name\" href=\"https://www.snapdeal.com/products//filters/LensMaterial_s~Polycarbonate\">\n",
       " \t\t\t\t\t\t\t\t\t\t\t\tPolycarbonate</a>,\n",
       " <a class=\"filter-name\" href=\"https://www.snapdeal.com/products//filters/LensFeature_s~Anti%20Glare\">\n",
       " \t\t\t\t\t\t\t\t\t\t\t\tAnti Glare</a>,\n",
       " <a class=\"filter-name\" href=\"https://www.snapdeal.com/products//filters/LensFeature_s~Anti%20Reflection\">\n",
       " \t\t\t\t\t\t\t\t\t\t\t\tAnti Reflection</a>,\n",
       " <a class=\"filter-name\" href=\"https://www.snapdeal.com/products//filters/LensFeature_s~Gradient\">\n",
       " \t\t\t\t\t\t\t\t\t\t\t\tGradient</a>,\n",
       " <a class=\"filter-name\" href=\"https://www.snapdeal.com/products//filters/LensFeature_s~Mirror\">\n",
       " \t\t\t\t\t\t\t\t\t\t\t\tMirror</a>,\n",
       " <a class=\"filter-name\" href=\"https://www.snapdeal.com/products//filters/LensFeature_s~Polarized\">\n",
       " \t\t\t\t\t\t\t\t\t\t\t\tPolarized</a>,\n",
       " <a class=\"filter-name\" href=\"https://www.snapdeal.com/products//filters/LensFeature_s~Regular\">\n",
       " \t\t\t\t\t\t\t\t\t\t\t\tRegular</a>,\n",
       " <a class=\"filter-name\" href=\"https://www.snapdeal.com/products//filters/LensFeature_s~UV%20Protected\">\n",
       " \t\t\t\t\t\t\t\t\t\t\t\tUV Protected</a>,\n",
       " <a class=\"filter-name\" href=\"https://www.snapdeal.com/products//filters/Pack_s~Pack%20of%201\">\n",
       " \t\t\t\t\t\t\t\t\t\t\t\tPack of 1</a>,\n",
       " <a class=\"filter-name\" href=\"https://www.snapdeal.com/products//filters/Pack_s~Pack%20of%202\">\n",
       " \t\t\t\t\t\t\t\t\t\t\t\tPack of 2</a>,\n",
       " <a class=\"filter-name\" href=\"https://www.snapdeal.com/products//filters/Pack_s~Pack%20of%203\">\n",
       " \t\t\t\t\t\t\t\t\t\t\t\tPack of 3</a>,\n",
       " <a class=\"filter-name\" href=\"https://www.snapdeal.com/products//filters/Pack_s~Pack%20of%205\">\n",
       " \t\t\t\t\t\t\t\t\t\t\t\tPack of 5</a>,\n",
       " <a class=\"filter-name\" href=\"https://www.snapdeal.com/products//filters/CarryingCase_s~Hard%20Case\">\n",
       " \t\t\t\t\t\t\t\t\t\t\t\tHard Case</a>,\n",
       " <a class=\"filter-name\" href=\"https://www.snapdeal.com/products//filters/CarryingCase_s~No%20Case\">\n",
       " \t\t\t\t\t\t\t\t\t\t\t\tNo Case</a>,\n",
       " <a class=\"filter-name\" href=\"https://www.snapdeal.com/products//filters/CarryingCase_s~Pouch\">\n",
       " \t\t\t\t\t\t\t\t\t\t\t\tPouch</a>,\n",
       " <a class=\"filter-name\" href=\"https://www.snapdeal.com/products//filters/CarryingCase_s~Soft%20Case\">\n",
       " \t\t\t\t\t\t\t\t\t\t\t\tSoft Case</a>,\n",
       " <a class=\"filter-name\" href=\"https://www.snapdeal.com/products//filters/discount~0%20-%2010\">\n",
       " \t\t\t\t\t\t\t\t\t\t\t\t0 - 10</a>,\n",
       " <a class=\"filter-name\" href=\"https://www.snapdeal.com/products//filters/discount~20%20-%2030\">\n",
       " \t\t\t\t\t\t\t\t\t\t\t\t20 - 30</a>,\n",
       " <a class=\"filter-name\" href=\"https://www.snapdeal.com/products//filters/discount~30%20-%2040\">\n",
       " \t\t\t\t\t\t\t\t\t\t\t\t30 - 40</a>,\n",
       " <a class=\"filter-name\" href=\"https://www.snapdeal.com/products//filters/discount~40%20-%2050\">\n",
       " \t\t\t\t\t\t\t\t\t\t\t\t40 - 50</a>,\n",
       " <a class=\"filter-name\" href=\"https://www.snapdeal.com/products//filters/discount~50%20-%2060\">\n",
       " \t\t\t\t\t\t\t\t\t\t\t\t50 - 60</a>,\n",
       " <a class=\"filter-name\" href=\"https://www.snapdeal.com/products//filters/discount~60%20-%2070\">\n",
       " \t\t\t\t\t\t\t\t\t\t\t\t60 - 70</a>,\n",
       " <a class=\"filter-name\" href=\"https://www.snapdeal.com/products//filters/discount~70%20-%2080\">\n",
       " \t\t\t\t\t\t\t\t\t\t\t\t70 - 80</a>,\n",
       " <a class=\"filter-name\" href=\"https://www.snapdeal.com/products//filters/discount~80%20-%2090\">\n",
       " \t\t\t\t\t\t\t\t\t\t\t\t80 - 90</a>,\n",
       " <a class=\"filter-name\" href=\"https://www.snapdeal.com/products//filters/discount~90%20-%20100\">\n",
       " \t\t\t\t\t\t\t\t\t\t\t\t90 - 100</a>]"
      ]
     },
     "execution_count": 180,
     "metadata": {},
     "output_type": "execute_result"
    }
   ],
   "source": [
    "link"
   ]
  },
  {
   "cell_type": "code",
   "execution_count": null,
   "id": "9c8c9b50-5058-47c0-8706-2b925b407feb",
   "metadata": {},
   "outputs": [],
   "source": []
  }
 ],
 "metadata": {
  "kernelspec": {
   "display_name": "Python 3 (ipykernel)",
   "language": "python",
   "name": "python3"
  },
  "language_info": {
   "codemirror_mode": {
    "name": "ipython",
    "version": 3
   },
   "file_extension": ".py",
   "mimetype": "text/x-python",
   "name": "python",
   "nbconvert_exporter": "python",
   "pygments_lexer": "ipython3",
   "version": "3.10.8"
  }
 },
 "nbformat": 4,
 "nbformat_minor": 5
}
